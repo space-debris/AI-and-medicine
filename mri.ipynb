{
 "cells": [
  {
   "cell_type": "markdown",
   "metadata": {},
   "source": [
    "# Exploring MRI data and labels\n",
    "3D MRI brain scans from the public [Medical Segmentation Decathlon](https://decathlon-10.grand-challenge.org/) challenge project.\n"
   ]
  },
  {
   "cell_type": "markdown",
   "metadata": {},
   "source": [
    "<img src=\"images/mri-slice.png\" alt=\"U-net Image\" width=\"300\"/>"
   ]
  },
  {
   "cell_type": "markdown",
   "metadata": {},
   "source": [
    "### Importing packages"
   ]
  },
  {
   "cell_type": "code",
   "execution_count": null,
   "metadata": {},
   "outputs": [],
   "source": [
    "import numpy as np\n",
    "import nibabel as nib\n",
    "import itk\n",
    "import itkwidgets\n",
    "from ipywidgets import interact, interactive, IntSlider, ToggleButtons\n",
    "import matplotlib.pyplot as plt\n",
    "%matplotlib inline\n",
    "import seaborn as sns\n",
    "sns.set_style('darkgrid')"
   ]
  },
  {
   "cell_type": "markdown",
   "metadata": {},
   "source": [
    "# 1 Exploring the data\n",
    "\n",
    "### 1.1  Loading images of the Brain\n",
    "Grabbing a single 3D MRI brain scan"
   ]
  },
  {
   "cell_type": "code",
   "execution_count": null,
   "metadata": {},
   "outputs": [],
   "source": [
    "image_path = \"data\\BraTS-Data\\imagesTr\\BRATS_001.nii.gz\"\n",
    "image_obj = nib.load(image_path)\n",
    "print(f\"Type of the image {type(image_obj)}\")"
   ]
  },
  {
   "cell_type": "markdown",
   "metadata": {},
   "source": [
    "### 1.2 Extracting the data as a numpy array"
   ]
  },
  {
   "cell_type": "code",
   "execution_count": null,
   "metadata": {},
   "outputs": [],
   "source": [
    "# Extracting the data using the get_fdata() method of the image object\n",
    "image_data = image_obj.get_fdata()\n",
    "type(image_data)"
   ]
  },
  {
   "cell_type": "code",
   "execution_count": null,
   "metadata": {},
   "outputs": [],
   "source": [
    "# get the image shape \n",
    "height, width, depth, channels = image_data.shape\n",
    "print(f\"the image object has these dimensions: \\n height:{height} \\n widht:{width} \\n depth:{depth} \\n channels:{channels}\")"
   ]
  },
  {
   "cell_type": "markdown",
   "metadata": {},
   "source": [
    "### 1.3 Visualise the data\n",
    "The \"depth\" indicated that there are 155 layers (slices through the brain) in every image object.\n"
   ]
  },
  {
   "cell_type": "code",
   "execution_count": null,
   "metadata": {},
   "outputs": [],
   "source": [
    "# select a random layer number\n",
    "maxval = 154\n",
    "i = np.random.randint(0,maxval)\n",
    "\n",
    "# defining a channel to look at\n",
    "channel = 0\n",
    "print(f\"Displaying layer {i} Channel {channel} of Image\")\n",
    "plt.imshow(image_data[:,:,i,channel], cmap='gray')\n",
    "plt.axis('off')"
   ]
  },
  {
   "cell_type": "markdown",
   "metadata": {},
   "source": [
    "#### 1.3.1 Interactive Exploration"
   ]
  },
  {
   "cell_type": "code",
   "execution_count": null,
   "metadata": {},
   "outputs": [],
   "source": [
    "# define function to visualise the data\n",
    "def explore_3dimage(layer):\n",
    "    plt.figure(figsize=(10,5))\n",
    "    channel=3\n",
    "    plt.imshow(image_data[:,:,layer,channel],cmap='gray')\n",
    "    plt.title(\"explore layers of brain mri\", fontsize=20)\n",
    "    plt.axis('off')\n",
    "    return layer\n",
    "\n",
    "# running the ipywidget's interact() function to explore the data\n",
    "interact(explore_3dimage, layer=(0,image_data.shape[2]-1))"
   ]
  },
  {
   "cell_type": "markdown",
   "metadata": {},
   "source": [
    "## 2. Explore the data lables\n",
    "We'll load a new dataset containing the lables for the MRI scan we loaded above"
   ]
  },
  {
   "cell_type": "code",
   "execution_count": null,
   "metadata": {},
   "outputs": [],
   "source": [
    "# define the data path and load the data\n",
    "label_path = \"data/BraTS-Data/labelsTr/BRATS_001.nii.gz\"\n",
    "label_obj = nib.load(label_path)\n",
    "type(label_obj)"
   ]
  },
  {
   "cell_type": "markdown",
   "metadata": {},
   "source": [
    "### Extract the data labels as a numpy array"
   ]
  },
  {
   "cell_type": "code",
   "execution_count": null,
   "metadata": {},
   "outputs": [],
   "source": [
    "# using the get_fdata() method of the image object\n",
    "label_array = label_obj.get_fdata()\n",
    "type(label_array)"
   ]
  },
  {
   "cell_type": "code",
   "execution_count": null,
   "metadata": {},
   "outputs": [],
   "source": [
    "# extract andprint out the shape of the labels data\n",
    "height, width, depth = label_array.shape\n",
    "print(f\"dinemsionsof the labels data array: height: {height}, widht: {width}, depth:{depth} \")\n",
    "print(f\"with the unique values: {np.unique(label_array)}\")\n",
    "print(\"\"\" Corresponding to the following label categories:\n",
    "0: for normal \n",
    "1: for edema\n",
    "2: for non-enhancing tumor \n",
    "3: for enhancing tumor\"\"\")"
   ]
  },
  {
   "cell_type": "markdown",
   "metadata": {},
   "source": [
    "### 2.2 Visualize the lables for a specificlayer\n",
    "Visualising a single layer of the labeled data"
   ]
  },
  {
   "cell_type": "code",
   "execution_count": null,
   "metadata": {},
   "outputs": [],
   "source": [
    "# define a single layer to look at\n",
    "layer = 50\n",
    "# define a dictionary of class labels\n",
    "classes_dict = {\n",
    "    'Normal': 0.,\n",
    "    'Edema': 1.,\n",
    "    'Non-enhancing tumor': 2.,\n",
    "    'Enhancing tumor': 3.\n",
    "}\n",
    "# set up for plotting\n",
    "fix,ax = plt.subplots(nrows=1, ncols=4, figsize=(50,30))\n",
    "for i in range(4):\n",
    "    # converted to list and extracted ith\n",
    "    img_label_str = list(classes_dict.keys())[i]\n",
    "    img = label_array[:,:,layer]\n",
    "    #where that img is equal to the img_label string\n",
    "    mask = np.where(img==classes_dict[img_label_str],255,0)\n",
    "    ax[i].imshow(mask)\n",
    "    ax[i].set_title(f\"Layer{layer} for {img_label_str}\", forntsize=45)\n",
    "    ax[i].axis('off')\n",
    "plt.tight_layout()"
   ]
  },
  {
   "cell_type": "markdown",
   "metadata": {},
   "source": [
    "#### 2.2.1 Interactive Visualisation across layers\n",
    "here we can choose the class we want to look at by clicking a button to choose a particular label and scrolling across layers using the slider"
   ]
  },
  {
   "cell_type": "code",
   "execution_count": null,
   "metadata": {},
   "outputs": [],
   "source": [
    "# create button values\n",
    "select_classes=ToggleButtons(\n",
    "    options=['Normal','Edema', 'Non-enhancing tumor', 'Enhancing tumor'],\n",
    "    description= 'Select Class:',\n",
    "    disabled=False,\n",
    "    button_style='info',\n",
    ")\n",
    "\n",
    "# create layer slider\n",
    "select_layer = IntSlider(min=0. max=154, description =\"Select Layer\", continuous_update=False)\n",
    "\n",
    "# define a function for plotting images\n",
    "def plot_image(seg_class,layer):\n",
    "    print(f\"displaying {layer} layer label:{seg_class}\")\n",
    "    img_label = classes_dict[seg_class]\n",
    "    mask = np.where(label_array[:,:,layer] == img_label, 255, 0)\n",
    "    plt.figure(figsize=(10,5))\n",
    "    plt.imshow(mask, cmap='gray')\n",
    "    plt.axis(\"off\")\n",
    "\n",
    "# using interactive() to create the visualisation \n",
    "interactive(plot_image, seg_class=select_classes, layer =select_layer)"
   ]
  }
 ],
 "metadata": {
  "language_info": {
   "name": "python"
  }
 },
 "nbformat": 4,
 "nbformat_minor": 2
}
